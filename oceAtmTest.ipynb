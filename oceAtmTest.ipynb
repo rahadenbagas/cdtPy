{
 "cells": [
  {
   "cell_type": "code",
   "execution_count": 1,
   "metadata": {},
   "outputs": [],
   "source": [
    "import numpy as np\n",
    "import cdtPy.geoGrd as geoGrd\n",
    "import cdtPy.oceAtm as oceAtm\n",
    "import matplotlib.pyplot as plt\n",
    "import xarray as xr\n",
    "from mpl_toolkits.basemap import Basemap"
   ]
  },
  {
   "cell_type": "code",
   "execution_count": null,
   "metadata": {},
   "outputs": [],
   "source": [
    "fName = './data/cmems_thetao.daily.202207202207.nc'\n",
    "\n",
    "DS = xr.open_dataset(fName)\n",
    "print(DS)"
   ]
  },
  {
   "cell_type": "code",
   "execution_count": 3,
   "metadata": {},
   "outputs": [],
   "source": [
    "sst = np.squeeze(DS.thetao)[0]\n",
    "latOce = DS.latitude\n",
    "lonOce = DS.longitude\n",
    "[latOce, lonOce] = np.meshgrid(latOce, lonOce)\n",
    "latOce = np.transpose(latOce)\n",
    "lonOce = np.transpose(lonOce)\n",
    "time = DS.time"
   ]
  },
  {
   "cell_type": "code",
   "execution_count": 4,
   "metadata": {},
   "outputs": [],
   "source": [
    "# SST gradient (using cdtgradient)\n",
    "[dsstX,dsstY] = geoGrd.cdtgradient(latOce, lonOce, sst,'km')\n",
    "sstGrad = np.hypot(dsstX,dsstY)"
   ]
  },
  {
   "cell_type": "code",
   "execution_count": null,
   "metadata": {},
   "outputs": [],
   "source": [
    "sstGrad"
   ]
  },
  {
   "cell_type": "code",
   "execution_count": null,
   "metadata": {},
   "outputs": [],
   "source": [
    "plt.figure(figsize=(16, 8))\n",
    "map_config = {\n",
    "    \"projection\": \"merc\",\n",
    "    \"llcrnrlat\": -10,\n",
    "    \"llcrnrlon\": 100,\n",
    "    \"urcrnrlat\": 0,\n",
    "    \"urcrnrlon\": 120,\n",
    "    \"resolution\": 'i',\n",
    "    \"epsg\": 4326\n",
    "}\n",
    "map = Basemap(**map_config)\n",
    "map.drawcountries(linewidth=1, color='black')\n",
    "map.fillcontinents(color='white',lake_color='aqua')\n",
    "map.drawcoastlines(linewidth=1, color='black')\n",
    "map.drawmeridians(np.arange(100,120,5),labels=[0,0,0,1])\n",
    "map.drawparallels(np.arange(-10,0,5),labels=[1,0,0,0])\n",
    "\n",
    "plt.pcolormesh(lonOce,latOce,sstGrad[0]*1e2,cmap=plt.cm.get_cmap('RdYlBu_r',24),vmin=0,vmax=4)\n",
    "\n",
    "xlabel = 'Longitude'\n",
    "ylabel = 'Latitude'\n",
    "xlabelpad = 30\n",
    "ylabelpad = 30\n",
    "plt.xlabel(xlabel, labelpad=xlabelpad)\n",
    "plt.ylabel(ylabel, labelpad=ylabelpad)\n",
    "plt.colorbar(label='SST gradient (°C/100km)')\n",
    "\n",
    "plt.savefig('./output/cmems_SSTGrad.daily20220701.png',bbox_inches = \"tight\", pad_inches=0)"
   ]
  },
  {
   "cell_type": "code",
   "execution_count": null,
   "metadata": {},
   "outputs": [],
   "source": [
    "plt.figure(figsize=(16, 8))\n",
    "map_config = {\n",
    "    \"projection\": \"merc\",\n",
    "    \"llcrnrlat\": -10,\n",
    "    \"llcrnrlon\": 100,\n",
    "    \"urcrnrlat\": 0,\n",
    "    \"urcrnrlon\": 120,\n",
    "    \"resolution\": 'i',\n",
    "    \"epsg\": 4326\n",
    "}\n",
    "map = Basemap(**map_config)\n",
    "map.drawcountries(linewidth=1, color='black')\n",
    "map.fillcontinents(color='white',lake_color='aqua')\n",
    "map.drawcoastlines(linewidth=1, color='black')\n",
    "map.drawmeridians(np.arange(100,120,5),labels=[0,0,0,1])\n",
    "map.drawparallels(np.arange(-10,0,5),labels=[1,0,0,0])\n",
    "\n",
    "plt.pcolormesh(lonOce,latOce,sstGrad*1e2,cmap=plt.cm.get_cmap('RdYlBu_r',24),vmin=0,vmax=4)\n",
    "\n",
    "xlabel = 'Longitude'\n",
    "ylabel = 'Latitude'\n",
    "xlabelpad = 30\n",
    "ylabelpad = 30\n",
    "plt.xlabel(xlabel, labelpad=xlabelpad)\n",
    "plt.ylabel(ylabel, labelpad=ylabelpad)\n",
    "plt.colorbar(label='SST gradient (°C/100km)')\n",
    "\n",
    "plt.savefig('./output/cmems_SSTGrad.daily20220701.png',bbox_inches = \"tight\", pad_inches=0)"
   ]
  },
  {
   "cell_type": "code",
   "execution_count": null,
   "metadata": {},
   "outputs": [],
   "source": [
    "fName = './data/era5_wnd0.daily.202207202207.nc'\n",
    "\n",
    "DS = xr.open_dataset(fName)\n",
    "print(DS)"
   ]
  },
  {
   "cell_type": "code",
   "execution_count": 33,
   "metadata": {},
   "outputs": [],
   "source": [
    "U = np.squeeze(DS.u10)[0]\n",
    "V = np.squeeze(DS.v10)[0]\n",
    "latAtm = DS.latitude\n",
    "lonAtm = DS.longitude\n",
    "[latAtm, lonAtm] = np.meshgrid(latAtm, lonAtm)\n",
    "latAtm = np.transpose(latAtm)\n",
    "lonAtm = np.transpose(lonAtm)\n",
    "time = DS.time"
   ]
  },
  {
   "cell_type": "code",
   "execution_count": 34,
   "metadata": {},
   "outputs": [],
   "source": [
    "# Wind stress (using oceAtm.windstress)\n",
    "[TauX, TauY] = oceAtm.windstress(U,V)"
   ]
  },
  {
   "cell_type": "code",
   "execution_count": null,
   "metadata": {},
   "outputs": [],
   "source": [
    "# Ekman transport and pumping (using oceAtm.ekman)\n",
    "[UE, VE, wE] = oceAtm.ekman(latAtm, lonAtm, U, V)"
   ]
  },
  {
   "cell_type": "code",
   "execution_count": null,
   "metadata": {},
   "outputs": [],
   "source": [
    "plt.figure(figsize=(16, 8))\n",
    "map_config = {\n",
    "    \"projection\": \"merc\",\n",
    "    \"llcrnrlat\": -10,\n",
    "    \"llcrnrlon\": 100,\n",
    "    \"urcrnrlat\": 0,\n",
    "    \"urcrnrlon\": 120,\n",
    "    \"resolution\": 'i',\n",
    "    \"epsg\": 4326\n",
    "}\n",
    "map = Basemap(**map_config)\n",
    "map.drawcountries(linewidth=1, color='black')\n",
    "map.fillcontinents(color='white',lake_color='aqua')\n",
    "map.drawcoastlines(linewidth=1, color='black')\n",
    "map.drawmeridians(np.arange(100,120,1),labels=[0,0,0,1])\n",
    "map.drawparallels(np.arange(-10,0,1),labels=[1,0,0,0])\n",
    "\n",
    "plt.pcolormesh(lonAtm,latAtm,wE*1e5,cmap=plt.cm.get_cmap('RdBu_r',24),vmin=-6,vmax=6)\n",
    "\n",
    "xlabel = 'Longitude'\n",
    "ylabel = 'Latitude'\n",
    "xlabelpad = 30\n",
    "ylabelpad = 30\n",
    "plt.xlabel(xlabel, labelpad=xlabelpad)\n",
    "plt.ylabel(ylabel, labelpad=ylabelpad)\n",
    "plt.colorbar(label='Ekman pumping (× $10^{-5}$ m/s)')\n",
    "\n",
    "plt.savefig('./output/era5_wE.daily20230524.png',bbox_inches = \"tight\", pad_inches=0)"
   ]
  }
 ],
 "metadata": {
  "kernelspec": {
   "display_name": "Python 3",
   "language": "python",
   "name": "python3"
  },
  "language_info": {
   "codemirror_mode": {
    "name": "ipython",
    "version": 3
   },
   "file_extension": ".py",
   "mimetype": "text/x-python",
   "name": "python",
   "nbconvert_exporter": "python",
   "pygments_lexer": "ipython3",
   "version": "3.8.8"
  },
  "vscode": {
   "interpreter": {
    "hash": "71a0b0b08f2b427d0f8f4dda99b125c70d66b51e03ce37bdfe2e86fca0217d01"
   }
  }
 },
 "nbformat": 4,
 "nbformat_minor": 2
}

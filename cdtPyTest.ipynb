{
 "cells": [
  {
   "cell_type": "code",
   "execution_count": 1,
   "metadata": {},
   "outputs": [],
   "source": [
    "import numpy as np\n",
    "import cdtPy.geoGrd as geoGrd\n",
    "import matplotlib.pyplot as plt\n",
    "import xarray as xr\n"
   ]
  },
  {
   "cell_type": "code",
   "execution_count": null,
   "metadata": {},
   "outputs": [],
   "source": [
    "lat = np.arange(-10,10,1)\n",
    "\n",
    "r0 = geoGrd.earth_radius()\n",
    "r1 = geoGrd.earth_radius(lat)\n",
    "r2 = geoGrd.earth_radius(lat, km = True)\n",
    "\n",
    "print(r0)\n",
    "print(r1)\n",
    "print(r2)\n"
   ]
  },
  {
   "cell_type": "code",
   "execution_count": null,
   "metadata": {},
   "outputs": [],
   "source": [
    "lat = np.arange(-90,90,1)\n",
    "lon = np.arange(-180,180,1)\n",
    "\n",
    "geoGrd.islatlon(lat, lon)"
   ]
  },
  {
   "cell_type": "code",
   "execution_count": null,
   "metadata": {},
   "outputs": [],
   "source": [
    "res = 1/12\n",
    "[lat, lon] = geoGrd.cdtgrid(res,0)\n",
    "\n",
    "print(lat)\n",
    "print(lon)"
   ]
  },
  {
   "cell_type": "code",
   "execution_count": null,
   "metadata": {},
   "outputs": [],
   "source": [
    "[dx, dy] = geoGrd.cdtdim(lat,lon,km = True)\n",
    "A = geoGrd.cdtarea(lat,lon, km2=True)\n",
    "\n",
    "print (dx)\n",
    "plt.figure()\n",
    "plt.pcolormesh(lon,lat,dx)\n",
    "plt.colorbar()\n",
    "\n",
    "print (dy)\n",
    "plt.figure()\n",
    "plt.pcolormesh(lon,lat,dy)\n",
    "plt.colorbar()\n",
    "\n",
    "print (A)\n",
    "plt.figure()\n",
    "plt.pcolormesh(lon,lat,A)\n",
    "plt.colorbar()"
   ]
  },
  {
   "cell_type": "code",
   "execution_count": 2,
   "metadata": {},
   "outputs": [],
   "source": [
    "fName = './data/cmems_thetao.daily.202207202207.nc'\n",
    "\n",
    "DS = xr.open_dataset(fName)\n",
    "# print(DS)\n",
    "F = np.squeeze(DS.thetao.values)\n",
    "lat = DS.latitude.values\n",
    "lon = DS.longitude.values\n",
    "# print(lon)\n",
    "\n",
    "[lat, lon] = np.meshgrid(lat, lon)\n",
    "lat = np.transpose(lat)\n",
    "lon = np.transpose(lon)\n"
   ]
  },
  {
   "cell_type": "code",
   "execution_count": null,
   "metadata": {},
   "outputs": [],
   "source": [
    "[FX, FY] = geoGrd.cdtgradient(lat,lon,F, km = True)\n",
    "sstGrad = np.hypot(FX,FY)\n",
    "\n",
    "plt.figure()\n",
    "plt.pcolormesh(lon,lat,sstGrad[0,:,:]*1e2,cmap='RdYlBu_r', vmin = 0,vmax = 4)\n",
    "plt.colorbar()"
   ]
  },
  {
   "cell_type": "code",
   "execution_count": 4,
   "metadata": {},
   "outputs": [],
   "source": [
    "fName = './data/era5_wnd0.daily.202207202207.nc'\n",
    "\n",
    "DS = xr.open_dataset(fName)\n",
    "# print(DS)\n",
    "U = np.squeeze(DS.u10.values)\n",
    "V = np.squeeze(DS.v10.values)\n",
    "lat = DS.latitude.values\n",
    "lon = DS.longitude.values\n",
    "# print(lon)\n",
    "\n",
    "[lat, lon] = np.meshgrid(lat, lon)\n",
    "lat = np.transpose(lat)\n",
    "lon = np.transpose(lon)"
   ]
  },
  {
   "cell_type": "code",
   "execution_count": null,
   "metadata": {},
   "outputs": [],
   "source": [
    "D = geoGrd.cdtdivergence(lat,lon,U,V)\n",
    "\n",
    "plt.figure()\n",
    "plt.pcolormesh(lon,lat,D[28,:,:],cmap='RdBu_r',vmin=-0.0003,vmax=0.0003)\n",
    "plt.colorbar()\n",
    "\n",
    "Cz = geoGrd.cdtcurl(lat,lon,U,V)\n",
    "\n",
    "plt.figure()\n",
    "plt.pcolormesh(lon,lat,Cz[28,:,:],cmap='RdBu_r',vmin=-0.0003,vmax=0.0003)\n",
    "plt.colorbar()"
   ]
  }
 ],
 "metadata": {
  "kernelspec": {
   "display_name": "base",
   "language": "python",
   "name": "python3"
  },
  "language_info": {
   "codemirror_mode": {
    "name": "ipython",
    "version": 3
   },
   "file_extension": ".py",
   "mimetype": "text/x-python",
   "name": "python",
   "nbconvert_exporter": "python",
   "pygments_lexer": "ipython3",
   "version": "3.8.8"
  },
  "orig_nbformat": 4
 },
 "nbformat": 4,
 "nbformat_minor": 2
}
